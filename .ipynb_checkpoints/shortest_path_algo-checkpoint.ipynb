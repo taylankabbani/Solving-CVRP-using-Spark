{
 "cells": [
  {
   "cell_type": "markdown",
   "metadata": {},
   "source": [
    "# Shortest path algorithm"
   ]
  },
  {
   "cell_type": "markdown",
   "metadata": {},
   "source": [
    "### conventional approach"
   ]
  },
  {
   "cell_type": "code",
   "execution_count": 103,
   "metadata": {},
   "outputs": [],
   "source": [
    "import sys \n",
    "import pandas as pd\n",
    "\n",
    "class SPT():\n",
    "    # The graph will be presented as Adjacency Matrix\n",
    "    def __init__(self, Num_nodes, Name_nodes):\n",
    "        self.names = Name_nodes  \n",
    "        self.N = Num_nodes\n",
    "        self.matrix = [[0 for column in range(Num_nodes)] for row in range(Num_nodes)]\n",
    "        \n",
    "    def minDist(self, dist_from_source, visited):\n",
    "        Min = sys.maxsize # Initilaize minimum distance for next node\n",
    "        \n",
    "        # Search for the smallest distance and not yet vistitd\n",
    "        for n in range(self.N):\n",
    "            if dist_from_source[n] < Min and visited[n] == False:\n",
    "                Min = dist_from_source[n]\n",
    "                current = n\n",
    "        return current\n",
    "        \n",
    "    \n",
    "    def shortest_path(self, source):\n",
    "        # initiate distance list with all inf, source =0 at the beginning\n",
    "        dist_from_source = [sys.maxsize] * self.N \n",
    "        dist_from_source[source] = 0\n",
    "        \n",
    "        #initiate visited nodes list\n",
    "        visited = [False] * self.N\n",
    "        \n",
    "        for node in range(self.N):\n",
    "            current_n = self.minDist(dist_from_source, visited)\n",
    "            \n",
    "            # mark the node as visited\n",
    "            visited[current_n] = True\n",
    "            \n",
    "            for node in range(self.N):\n",
    "                # if there is a connection and the distance from source node smaller from the one already found and \n",
    "                # the node is not visited yet, update the distance\n",
    "                if self.matrix[current_n][node] > 0 and visited[node] == False and\\\n",
    "                dist_from_source[node] > self.matrix[current_n][node] + dist_from_source[current_n] :\n",
    "                    dist_from_source[node]= self.matrix[current_n][node] + dist_from_source[current_n]  \n",
    "        \n",
    "        df = pd.DataFrame(dist_from_source, index = self.names, columns = ['Shortest distance'])\n",
    "        print(df)\n",
    "        \n",
    "    "
   ]
  },
  {
   "cell_type": "code",
   "execution_count": 105,
   "metadata": {},
   "outputs": [
    {
     "name": "stdout",
     "output_type": "stream",
     "text": [
      "   Shortest distance\n",
      "A                  0\n",
      "B                  3\n",
      "C                  7\n",
      "D                  1\n",
      "E                  2\n"
     ]
    }
   ],
   "source": [
    "g = SPT(5,['A','B','C','D','E']) \n",
    "g.matrix = [[0, 6, 0, 1, 0,], \n",
    "        [6, 0, 5, 2, 2], \n",
    "        [0, 5, 0, 0, 5], \n",
    "        [1, 2, 0, 0, 1], \n",
    "        [0, 2, 5, 1, 0] \n",
    "        ]; \n",
    "  \n",
    "g.shortest_path(0)"
   ]
  },
  {
   "cell_type": "markdown",
   "metadata": {},
   "source": [
    "### MapReduce Frame \n",
    "* links file is the Adjacency list representation of directed graph"
   ]
  },
  {
   "cell_type": "code",
   "execution_count": null,
   "metadata": {},
   "outputs": [],
   "source": [
    "import findspark\n",
    "findspark.init()\n",
    "findspark.find()\n",
    "import pyspark\n",
    "findspark.find()\n",
    "from pyspark import SparkContext, SparkConf\n",
    "from pyspark.sql import SparkSession\n",
    "conf = pyspark.SparkConf().setAppName('appName').setMaster('local')\n",
    "sc = pyspark.SparkContext(conf=conf)\n",
    "spark = SparkSession(sc)"
   ]
  },
  {
   "cell_type": "code",
   "execution_count": 112,
   "metadata": {},
   "outputs": [
    {
     "data": {
      "text/plain": [
       "True"
      ]
     },
     "execution_count": 112,
     "metadata": {},
     "output_type": "execute_result"
    }
   ],
   "source": [
    "class SPT():\n",
    "    def __init__(self, source_node):\n",
    "        # Importing all files in Q4 folder and create key/value pairs,(source_node,[(node1,dist),(node2,dist),...])\n",
    "        # and persist it to reduce shuffling through network\n",
    "        self.graph = sc.textFile('links.txt').map(lambda x: (x.split(' ')[0], x.split(' ')[1:])) \\\n",
    "                        .mapValues(lambda x: [(x[i], x[i+1]) for i in range(0, len(x), 2)]).persist()\n",
    "        # Define source node\n",
    "        self.src = source_node\n",
    "        # Create distance RDD, initially 0 for the source and inf to other nodes\n",
    "        # Also persist it.\n",
    "        self.dist = self.graph.map(lambda x: (x[0], float('inf')) if x[0] != source_node else (x[0], 0))\n",
    "        \n",
    "    def shortest_path(self):\n",
    "        #use accumulator to check the termination condition\n",
    "#         acc = sc.accumulator(0)\n",
    "#         prev=0\n",
    "        \n",
    "        for i in range(20):\n",
    "            # Finding the shortest distance between each node and the source:\n",
    "            update_dist = self.graph.join(self.dist).flatMap(lambda x: [(x[1][0][i][0] , int(x[1][0][i][1]) + x[1][1]) \\\n",
    "                                                                        for i in range(len(x[1][0]))] \\\n",
    "                                                             if x[1][1] != float('inf') else []) \\\n",
    "                                                    .reduceByKey(lambda x,y: min(x,y))\n",
    "            \n",
    "            # Update the distance if it's shorter than the one found in the previous iteration:\n",
    "            self.dist = self.dist.leftOuterJoin(update_dist).mapValues(lambda x: x[0] if x[1] == None else min(x[0],x[1]))\n",
    "            \n",
    "            \n",
    "            \n",
    "#             # Checking if there are nodes we did not visit yet\n",
    "#             self.dist.foreach(lambda node: acc.add(1) if node[1] == float('inf') else None)\n",
    "            \n",
    "#             # If We visited all nodes terminate\n",
    "#             if acc.value == prev:\n",
    "#                 break\n",
    "#             else:\n",
    "#                 prev = acc.value\n",
    "            print('iteration: {} \\n{}'.format(i,self.dist.collect()))\n",
    "    \n",
    "t = SPT(source_node =\"\")\n",
    "t.shortest_path()"
   ]
  },
  {
   "cell_type": "markdown",
   "metadata": {},
   "source": [
    "### You are given a directed graph with the (positive) weighted edges. The graph is represented in an adjacency list format in the input file. In each line of the input file, the first entry is a node in the graph. The subsequent entries in the line represent the edges and the edge lengths (weights). Each pair of values is essentially the end point of the directed edge and the length of the edge. As an example, the following input data represents a graph with 3 nodes (A, B,C). There is an edge from A to B with a length of 1 and an edge from A to C with a length of 4. Similarly, there is an edge from B to A with a length of 3 and an edge from C to B with a length of 2.\n",
    "### A B 1 C 4\n",
    "### B A 3\n",
    "### C B 2\n",
    "### Given a node as an input, write a Spark code that finds all nodes within the distance of 10 (ten) to this node (You can write a function that takes the starting node as an input parameter or you can use a variable in your code that represents the starting node). Essentially, you need to calculate shortest distance to other nodes, starting from the node that is given by the user. And output the nodes that have the (shortest) distance of 10 or less to this node. Use directedgraph* files provided to you as your dataset."
   ]
  },
  {
   "cell_type": "code",
   "execution_count": null,
   "metadata": {},
   "outputs": [],
   "source": [
    "class SPT():\n",
    "    def __init__(self, source_node):\n",
    "        # Importing all files in Q4 folder and create key/value pairs,(source_node,[(node1,dist),(node2,dist),...])\n",
    "        # and persist it to reduce shuffling through network\n",
    "        self.graph = sc.wholeTextFiles(r\"C:\\Users\\taylankabbani2019\\Downloads\\Q4\\*\") \\\n",
    "                        .flatMap(lambda x: x[1].split(' \\n')).map(lambda x: (x.split(' ')[0], x.split(' ')[1:])) \\\n",
    "                        .mapValues(lambda x: [(x[i], x[i+1]) for i in range(0, len(x), 2)]).persist()\n",
    "        # Define source node\n",
    "        self.src = source_node\n",
    "        # Create distance RDD, initially 0 for the source and inf to other nodes\n",
    "        # Also persist it.\n",
    "        self.dist = self.graph.map(lambda x: (x[0], float('inf')) if x[0] != source_node else (x[0], 0))\n",
    "        \n",
    "    def shortest_path(self):\n",
    "        #use accumulator to check the termination condition\n",
    "        acc = sc.accumulator(0)\n",
    "        while True:\n",
    "            # Finding the shortest distance between each node and the source:\n",
    "            update_dist = self.graph.join(self.dist).flatMap(lambda x: [(x[1][0][i][0] , int(x[1][0][i][1]) + x[1][1]) \\\n",
    "                                                                        for i in range(len(x[1][0]))] \\\n",
    "                                                             if x[1][1] != float('inf') else []) \\\n",
    "                                                    .reduceByKey(lambda x,y: min(x,y))\n",
    "            \n",
    "            # Update the distance if it's shorter than the one found in the previous iteration:\n",
    "            self.dist = self.dist.leftOuterJoin(update_dist).mapValues(lambda x: x[0] if x[1] == None else min(x[0],x[1]))\n",
    "            \n",
    "            # Checking if there are nodes we did not visit yet\n",
    "            self.dist.foreach(lambda node: acc.add(1) if node[1] == float('inf') else None)\n",
    "            \n",
    "            # If We visited all nodes terminate\n",
    "            if acc.value == 0:\n",
    "                break\n",
    "            else:\n",
    "                acc.value = 0\n",
    "        return self.dist\n",
    "    def col(self):\n",
    "        print(self.dist.take(5))\n",
    "        \n",
    "t = SPT('node5089')\n",
    "t.shortest_path()"
   ]
  }
 ],
 "metadata": {
  "kernelspec": {
   "display_name": "Python 3",
   "language": "python",
   "name": "python3"
  },
  "language_info": {
   "codemirror_mode": {
    "name": "ipython",
    "version": 3
   },
   "file_extension": ".py",
   "mimetype": "text/x-python",
   "name": "python",
   "nbconvert_exporter": "python",
   "pygments_lexer": "ipython3",
   "version": "3.7.6"
  }
 },
 "nbformat": 4,
 "nbformat_minor": 2
}
